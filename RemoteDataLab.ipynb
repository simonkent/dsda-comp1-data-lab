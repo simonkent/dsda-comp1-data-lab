{
 "cells": [
  {
   "cell_type": "markdown",
   "metadata": {
    "collapsed": true,
    "pycharm": {
     "name": "#%% md\n"
    }
   },
   "source": [
    "# Remote Data Lab\n",
    "\n",
    "Previously, we worked on our own machines, or a virtual desktop to connect to a remote database.  This database had a publicly available internet port 3306 to allow us to connect to MySQL.  As explained previousy, this is a huge security risk. In this lab we are going to be connecting to a remote linux machine running in the cloud.  Because we want things to be secure, we need to prevent unnecessary access to these kinds of machines.  We also don't want to install complex graphical user interfaces on them.  They just take up disk space, memory and processing power.\n",
    "\n",
    "We therefore need to learn how to connect to systems like this, and transfer files to and from them.  We are going to need to use some way of connecting securely, and running software and manipulating files usign the command line.\n",
    "\n",
    "As most of us are very used to using shiny GUIs these days, it may take you a while to become familiar with this way of working, but once you do you will find that the command line can sometimes be a much more efficient way of getting things done.\n",
    "\n",
    "As previously, you will each run into your own difficulties based on your individual machine, how open it is, your networking infrastructure at home an work.  When you have these difficulties, don't see it as a barrier to learning, but rather as an opportunity to learn.\n",
    "\n",
    "We are directly looking at KSBs related to data, but also to KSBs relating to access to data, cloud, and security."
   ]
  },
  {
   "cell_type": "markdown",
   "metadata": {
    "pycharm": {
     "name": "#%% md\n"
    }
   },
   "source": [
    "## Task 1 - Connecting to Azure Labs\n",
    "\n",
    "You will each have a small virtual server for your lab.  It is a 2 core machine with 4GB RAM.  This wouldn't be very useful as a production server, but will be fine for some single user testing.  Please feel free to play with the server as you wish.  You each have a quota of time.  Try to remember to log off when you are not using it otherwise the bills will start to mount.  If you genuinely need more time, please let me know.\n",
    "\n",
    "### Accept your invite to Azure Lab Services\n",
    "\n",
    "You will receive an invite from Microsoft Azure.  Click the `Register for the lab` button.\n",
    "\n",
    "You will be taken to a web page, and will need to sign on with your UoN credentials if you haven't already done so.  You should see something like this:\n",
    "\n",
    "![A](AzureLabServices.jpg)\n",
    "\n",
    "You will able to switch the machine on.  It will take a minute or so to fire it up!\n",
    "\n",
    "Click the little screen button and you will be asked to choose how to connect, either via SSH or RDP. Choose **SSH**.  You'll be prompted for a password . . this is for you to choose and will apply to this Virtual Machine (VM) until it is reset.  Try not to forget it.\n",
    "\n",
    "### Install a Secure Shell (SSH) client\n",
    "\n",
    "You need to find a secure shell client that you are happy with.  Most unix installs such as linux or OS X on a Mac will have ssh installed which can be accessed from the Terminal command line shell.  On a Windows machine you may have installed GitBash when we were looking at Git on the block release day.  This is installed on the UoN Remote Desktop.\n",
    "\n",
    "Alternatively, [Termius](https://termius.com) is a nice commercial ssh solution.  It has apps for iOS, Android, Mac, Windows and Linux.  The settings on each can be synchronised between devices if you have an account.  You can get academic access to this software as part of the [GitHub Student Developer Pack](https://education.github.com/pack).  Just be aware that this will be for educational use, so be wary about installing on a corporate machine as it should not be used for commercial purposes.\n",
    "\n",
    "### Connect to VM\n",
    "\n",
    "Go back to your Azure Lab Services web-page.\n",
    "\n",
    "* server name - this will be a unique server name for you\n",
    "* username and password - Sometimes there are different secure ways of authenticating with a server, but for now we are just going to use a traditional username and password which are (dsda, Nott1ngham).\n",
    "* port number - as standard, this is port 22, but in azure labs a specific port is assigned.\n",
    "\n",
    "If you click again on the screen button, and choose **SSH**.  You will get something like this:\n",
    "\n",
    "```ssh -p 65312 dsda@ml-lab-29f511d2-74b8-4da3-bb20-7f246ade6040.southeastasia.cloudapp.azure.com```\n",
    "\n",
    "On a unix machine, or on gitbash, you can cut and paste that command and it should connect you and prompt you for the password.  For some clients, such as Termius, you'll need to know what this string means.\n",
    "\n",
    "* `ssh` is the executable name of the SSH client.\n",
    "* `-p 65312` specifies that we want to use port 65312 . . that will be different for each user\n",
    "* `dsda@ml-lab-29f511d2-74b8-4da3-bb20-7f246ade6040.southeastasia.cloudapp.azure.com` means user `dsda` at server name `ml-lab-29f511d2-74b8-4da3-bb20-7f246ade6040.southeastasia.cloudapp.azure.com`  It isn't a catchy name, but has been computer generated to be unique.\n",
    "\n",
    "However you choose to connect, use the information above to establish your connection.\n",
    "\n",
    "If things aren't working, shout for help.\n",
    "\n",
    "If it is successful, you will be logged into a command line interface of a unix server.\n",
    "\n"
   ]
  },
  {
   "cell_type": "markdown",
   "metadata": {
    "pycharm": {
     "name": "#%% md\n"
    }
   },
   "source": [
    "## Task 2 - Creating a Database\n",
    "\n",
    "Last time, I created a database for you which you executed some SQL against.  This time, you have your own MySQL implementation on your own server.  Your task is to recreate the database on your server.\n",
    "\n",
    "I have installed MySQL on the server for you.  It will be running in the background automatically.  You just need to use it!\n",
    "\n",
    "The MySQL login credentials are:\n",
    "\n",
    "user: root\n",
    "password: Nott1ngham\n",
    "\n",
    "This is not particularly secure, but ok for our test purposes.  We would really like to setup individual database users for different applications and restrict exactly what privileges they have on the database server.  They may have different permissions to read, write and update rows of data, tables and whole databases.  The best way to stop data being accessed or changed is to prevent access in the first place.\n",
    "\n",
    "You are now going to create the tyres database.\n",
    "\n",
    "I have prepared some files on GitHub for you to use.\n",
    "\n",
    "You should be able to navigate to the repository here:\n",
    "\n",
    "[https://github.com/UoN-CS/dsda-comp1-data-lab](https://github.com/UoN-CS/dsda-comp1-data-lab)\n",
    "\n",
    "You should **fork** this repository.  This means that you take a copy of the whole repository and store it in your own Github account.  You will then be able to add to, and update your forked version which will be useful to keep a track of the work you do. However you also be able to fetch my original repo in the case that I add more files, or update any notebooks to improve clarity.\n",
    "\n",
    "From your linux server, you can now clone your forked repository onto the server.\n",
    "\n",
    "For example `git clone https://github.com/simonkent/dsda-comp1-data-lab`\n",
    "\n",
    "*NB* the address will be slightly different, because this is for my github account . . it will be the copy you forked to your own account.  If you use the command above exactly, it will clone my repository which will be read-only for you.\n",
    "\n",
    "<div class=\"alert alert-block alert-info\">\n",
    "<b>Tip: </b>When you are learning to use things like Linux, Python, Git etc. you will often find that people have created cheat sheets to give you an easy reference to the most common commands.  Please feel free to google around and find cheat sheets that work for you, but here is a <A HREF=https://cheatography.com/davechild/cheat-sheets/linux-command-line/>Linux Cheat Sheet</A> to get you started.\n",
    "</div>\n",
    "\n",
    "Use the `ls` command to list the files in the current HOME directory.  You should see a directory for your repository.  Use `cd` to change directory so you are in the repository directory.  Now use `ls` again to see what is there.\n",
    "\n",
    "You should see, amongst other things, this Jupyter notebook, and a python program `CreateTyreDB.py`.  Take a look at this program.  It contains code to create the tyre database and a single table to contain the data, and then read from the data file and insert rows of data into the table.\n",
    "\n",
    "You should be able to run the program on the linux server using:\n",
    "\n",
    "`python CreateTyreDB.py`\n",
    "\n",
    "This may take a couple of minutes.  It isn't the most efficiently written code, and is running on quite a small server and is inserting over 4000 rows of data.\n",
    "\n",
    "You should now be able to run the queries that you developed last week.\n",
    "\n",
    "You can run the `mysql` client programme which will allow you to type SQL queries which are run on the server.\n",
    "\n",
    "Start the client using: `mysql -u root -p`\n",
    "\n",
    "This command starts the mysql client with user `root` which is an admin user on linux and asks to specify a password.  When prompted, enter the password and you should be in.\n",
    "\n",
    "A video below shows a walkthrough connecting to the Azure Lab.\n"
   ]
  },
  {
   "cell_type": "code",
   "execution_count": 8,
   "metadata": {},
   "outputs": [
    {
     "data": {
      "text/html": [
       "<iframe height=\"420\" width=\"640\" allowfullscreen frameborder=0 src=\"https://echo360.org.uk/media/4194ab51-0976-4ad3-99b9-47f9fe3eb21a/public?autoplay=false&automute=false\"></iframe>"
      ],
      "text/plain": [
       "<IPython.core.display.HTML object>"
      ]
     },
     "execution_count": 8,
     "metadata": {},
     "output_type": "execute_result"
    }
   ],
   "source": [
    "from IPython.display import HTML\n",
    "\n",
    "HTML('<iframe height=\"420\" width=\"640\" allowfullscreen frameborder=0 src=\"https://echo360.org.uk/media/4194ab51-0976-4ad3-99b9-47f9fe3eb21a/public?autoplay=false&automute=false\"></iframe>')"
   ]
  },
  {
   "cell_type": "markdown",
   "metadata": {},
   "source": [
    "## Moving files\n",
    "\n",
    "You will want to move files and data to and from your server.  You obviously cannot just drag and drop like you can in Windows or on a Mac.  For code, the easiest thing is to use GitHub.  You can write your code on your server, or on your local machine, push it to the server and pull it to your local machine or server as you wish.\n",
    "\n",
    "If you have larger files, you are probably better to use a secure copy.  This is part of ssh.\n",
    "\n",
    "`scp` is a cross between the standard unix `cp` command for moving files on a local machine, and ssh for accessing remote machines. In its simplest form it would look like this:\n",
    "\n",
    "`scp [-P port] source target`\n",
    "\n",
    "So, if I wanted to copy a file `bigdata.csv` to my server, I would use\n",
    "\n",
    "`scp -P 65312 bigdata.csv dsda@ml-lab-29f511d2-74b8-4da3-bb20-7f246ade6040.southeastasia.cloudapp.azure.com:~/`\n",
    "\n",
    "Look at the port number and the username and server name.  They are the same as further up in the worksheet.  They will be different on your server.  The difference is that there is a `:` at the end of the hostname.  Anything after this tells the command where to put the file on the other end of the connection.  `~` is a shortcut for your home directory.  If you wanted to put the file in a `my_data` directory, you would add `:~/mydata`\n",
    "\n",
    "If I had created a file results_graph.jpg on the server that I wanted to copy back, I would use:\n",
    "\n",
    "`scp -P 65312 dsda@ml-lab-29f511d2-74b8-4da3-bb20-7f246ade6040.southeastasia.cloudapp.azure.com:~/results_graph.jpg.csv .`\n",
    "\n",
    "Notice that this time, I am copying from the server to `.`.  The `.` is shorthand for my current directory.\n",
    "\n",
    "This may well all seem like wizardry at first, but try copying some files back and forth.  Any mistakes you make will help you learn and will help you become more fluent as you use local and remote servers in the future."
   ]
  },
  {
   "cell_type": "markdown",
   "metadata": {
    "pycharm": {
     "name": "#%% md\n"
    }
   },
   "source": [
    "## Task 3 - Tunnelling\n",
    "\n",
    "If you completed the above task, you will have used the SSH protocol to securely connect to you Azure Lab machine.  The connection will be encrypted so nobody can intercept the commands and passwords that you might be sending across the public internet.\n",
    "\n",
    "The downside of this is that because you have made it difficult for everyone else to access the server, you've also made it more difficult for you to access it too.\n",
    "\n",
    "We would like to only keep the SSH port open to the outside world, so how do we connect to a database or Jupyter Notebook server running on our virtual server?\n",
    "\n",
    "One approach, is to use tunneling, also known as port forwarding.\n",
    "\n",
    "There are two examples below that you can try.  Both use the same principle, and you could also apply it to other network services running on your server such as different databases, or web servers.\n",
    "\n",
    "Remember the command we used to connect to the server:\n",
    "\n",
    "```ssh -p 65312 dsda@ml-lab-29f511d2-74b8-4da3-bb20-7f246ade6040.southeastasia.cloudapp.azure.com```\n",
    "\n",
    "We can easily add an extra argument `-L port:hostname:hostport`\n",
    "\n",
    "This will connect a `port` on your computer, via a tunnelled ssh connection to the specified `hostport` on `hostname` at the other end of the SSH tunnel.\n",
    "\n",
    "If you want to read more about port forwarding you can look on the [SSH Web site](https://www.ssh.com/academy/ssh/tunneling/example).\n",
    "\n",
    "### Tunnelling MySQL\n",
    "\n",
    "To port forward MySQL, you can do something like this:\n",
    "\n",
    "```ssh -p 65312 -L 3306:localhost:3306 dsda@ml-lab-29f511d2-74b8-4da3-bb20-7f246ade6040.southeastasia.cloudapp.azure.com```\n",
    "\n",
    "You should then be able to connect from a client or programme on your local machine, pointing to localhost:3306 which will actually connect to a server running on the remote server.\n",
    "\n",
    "\n",
    "\n",
    "### Tunnelling Jupyter\n",
    "\n",
    "\n",
    "```ssh -p 65312 -L 8888:localhost:8888 dsda@ml-lab-29f511d2-74b8-4da3-bb20-7f246ade6040.southeastasia.cloudapp.azure.com```\n",
    "\n",
    "In this case, you can run a Jupyter notebook server on your remote server, but use the browser on your local machine to navigate to localhost:8888 and write Jupyter notebooks which are actually running onthe remote server.  A neat way of getting a reasonable interractive python interface but running queries against the remote server.\n",
    "\n",
    "Can you use some python in a Jupyter notebook to run queries against the MySQL server on your server?\n",
    "\n",
    "Below is a video expolaining and demonstrating tunnelling.\n"
   ]
  },
  {
   "cell_type": "code",
   "execution_count": 11,
   "metadata": {},
   "outputs": [
    {
     "data": {
      "text/html": [
       "<iframe height=\"420\" width=\"640\" allowfullscreen frameborder=0 src=\"https://echo360.org.uk/media/60c0d2e7-6075-4815-a0f0-710683fca603/public?autoplay=false&automute=false\"></iframe>"
      ],
      "text/plain": [
       "<IPython.core.display.HTML object>"
      ]
     },
     "execution_count": 11,
     "metadata": {},
     "output_type": "execute_result"
    }
   ],
   "source": [
    "HTML('<iframe height=\"420\" width=\"640\" allowfullscreen frameborder=0 src=\"https://echo360.org.uk/media/60c0d2e7-6075-4815-a0f0-710683fca603/public?autoplay=false&automute=false\"></iframe>')"
   ]
  },
  {
   "cell_type": "markdown",
   "metadata": {},
   "source": [
    "# Task 4 - On the Job\n",
    "\n",
    "Here are some things you might wish to consider when taking this learnign on the job.  You might wish to use these questions or similar in your reflection on APTEM.\n",
    "\n",
    "* What data servers (SQL or otherwise) are available for you within your orgnanisation?\n",
    "* Is there some data in files, especially data from different sources that could be combined and stored in tables on a SQL server?\n",
    "* Can you use a combination of Python and SQL to ask questions of data in a database in your organistion?\n",
    "* How would you decide where to do the \\'heavy-lifting\\'? In Python or on the Database Server?\n",
    "\n"
   ]
  }
 ],
 "metadata": {
  "kernelspec": {
   "display_name": "Python 3 (ipykernel)",
   "language": "python",
   "name": "python3"
  },
  "language_info": {
   "codemirror_mode": {
    "name": "ipython",
    "version": 3
   },
   "file_extension": ".py",
   "mimetype": "text/x-python",
   "name": "python",
   "nbconvert_exporter": "python",
   "pygments_lexer": "ipython3",
   "version": "3.9.7"
  }
 },
 "nbformat": 4,
 "nbformat_minor": 1
}